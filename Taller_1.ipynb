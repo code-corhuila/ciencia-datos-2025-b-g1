{
  "cells": [
    {
      "cell_type": "markdown",
      "metadata": {
        "id": "view-in-github",
        "colab_type": "text"
      },
      "source": [
        "<a href=\"https://colab.research.google.com/github/jorgeandreschauxplazas/ciencia-datos-2025-b-g1/blob/main/Taller_1.ipynb\" target=\"_parent\"><img src=\"https://colab.research.google.com/assets/colab-badge.svg\" alt=\"Open In Colab\"/></a>"
      ]
    },
    {
      "cell_type": "markdown",
      "id": "8f8dd248",
      "metadata": {
        "id": "8f8dd248"
      },
      "source": [
        "# Taller 1: Introducción a la Ciencia de Datos\n",
        "\n",
        "### Datos del trabajo:\n",
        "- Autor: Jorge Andres Chaux Plazas\n",
        "- Fecha: 29 de Agosto 2025\n",
        "- Materia: Ciencia de Datos\n",
        "----"
      ]
    },
    {
      "cell_type": "markdown",
      "source": [],
      "metadata": {
        "id": "MskQEwKd6no1"
      },
      "id": "MskQEwKd6no1"
    },
    {
      "cell_type": "markdown",
      "id": "97493920",
      "metadata": {
        "id": "97493920"
      },
      "source": [
        "1. Definición de Ciencia de Datos: La ciencia de datos es la disciplina que combina métodos estadísticos, matemáticos y computacionales para analizar y extraer conocimiento útil de grandes volúmenes de datos, apoyando la toma de decisiones."
      ]
    },
    {
      "cell_type": "markdown",
      "id": "5f00c7d0",
      "metadata": {
        "id": "5f00c7d0"
      },
      "source": [
        "2. Roles en la Ciencia de Datos:\n",
        "\n",
        "- Científico de datos: crea modelos y obtiene insights.\n",
        "\n",
        "- Ingeniero de datos: gestiona y prepara la infraestructura de datos.\n",
        "\n",
        "- Analista de datos: interpreta y comunica resultados.\n",
        "\n",
        "- Ingeniero de ML: implementa modelos en producción.\n"
      ]
    },
    {
      "cell_type": "markdown",
      "id": "04f0ddd8",
      "metadata": {
        "id": "04f0ddd8"
      },
      "source": [
        "3. ¿Qué son los dataset?\n",
        "\n",
        "Un dataset es un conjunto de datos organizados, generalmente en forma de tabla,\n",
        "donde las filas representan registros u observaciones y las columnas\n",
        "representan variables o características. Se utilizan para analizar información, entrenar modelos de machine learning y apoyar la toma de decisiones.\n",
        "\n",
        "\n",
        "\n"
      ]
    },
    {
      "cell_type": "markdown",
      "id": "8324c9e7",
      "metadata": {
        "id": "8324c9e7"
      },
      "source": [
        "4. Lineas de código que permite cargar un (`.xlx`, `.xlsx`, `.csv` u otro formato de data); Luego pasar este documento a un `dataframe` (df)"
      ]
    },
    {
      "cell_type": "code",
      "metadata": {
        "colab": {
          "base_uri": "https://localhost:8080/"
        },
        "id": "46c1d0b3",
        "outputId": "4eb0a3e0-b62d-4233-fcc8-913089bab3e4"
      },
      "source": [
        "import pandas as pd\n",
        "import numpy as np\n",
        "\n",
        "# Generate 500 records\n",
        "num_records = 500\n",
        "\n",
        "# Generate synthetic data\n",
        "client_codes = [f'C{i:04d}' for i in range(num_records)]\n",
        "names = [f'Client_{i:04d}' for i in range(num_records)]\n",
        "valor_bruto = np.random.uniform(100, 10000, num_records)\n",
        "iva_rate = 0.19\n",
        "discount_rate = 0.05\n",
        "\n",
        "# Calculate IVA, discount, and net value\n",
        "iva = valor_bruto * iva_rate\n",
        "descuento = valor_bruto * discount_rate\n",
        "valor_neto = valor_bruto + iva - descuento\n",
        "\n",
        "# Create a DataFrame\n",
        "df_synthetic = pd.DataFrame({\n",
        "    'codigo_cliente': client_codes,\n",
        "    'nombre': names,\n",
        "    'valor_bruto': valor_bruto,\n",
        "    'IVA': iva,\n",
        "    'descuento': descuento,\n",
        "    'valor_neto': valor_neto\n",
        "})\n",
        "\n",
        "# Export to CSV\n",
        "df_synthetic.to_csv('dataset_clientes_sintetico.csv', index=False)\n",
        "\n",
        "print(\"Synthetic data generated and exported to 'dataset_clientes_sintetico.csv'\")"
      ],
      "id": "46c1d0b3",
      "execution_count": null,
      "outputs": [
        {
          "output_type": "stream",
          "name": "stdout",
          "text": [
            "Synthetic data generated and exported to 'dataset_clientes_sintetico.csv'\n"
          ]
        }
      ]
    },
    {
      "cell_type": "markdown",
      "source": [
        "5. Generar una grafica con el anterior df\n"
      ],
      "metadata": {
        "id": "YPp7jZqroKmV"
      },
      "id": "YPp7jZqroKmV"
    },
    {
      "cell_type": "code",
      "source": [
        "import matplotlib.pyplot as plt\n",
        "import seaborn as sns\n",
        "\n",
        "# Create a bar plot of Total sales\n",
        "plt.figure(figsize=(10, 6))\n",
        "sns.barplot(data=df_loaded, y='valor_neto') # Using 'valor_neto' as Total Sales\n",
        "plt.axhline(df_loaded['valor_neto'].mean(), color='red', linestyle='--', label=f'Mean Total Sales: {df_loaded[\"valor_neto\"].mean():.2f}')\n",
        "plt.title('Distribution of Total Sales')\n",
        "plt.xlabel('Total Sales')\n",
        "plt.legend()\n",
        "plt.show()"
      ],
      "metadata": {
        "colab": {
          "base_uri": "https://localhost:8080/",
          "height": 550
        },
        "id": "S1_xDDTnr7IY",
        "outputId": "c9d4dc91-63e0-430d-df82-24c4142b8155"
      },
      "id": "S1_xDDTnr7IY",
      "execution_count": null,
      "outputs": [
        {
          "output_type": "display_data",
          "data": {
            "text/plain": [
              "<Figure size 1000x600 with 1 Axes>"
            ],
            "image/png": "[encoded data removed]"
          },
          "metadata": {}
        }
      ]
    }
  ],
  "metadata": {
    "kernelspec": {
      "display_name": "Python 3",
      "language": "python",
      "name": "python3"
    },
    "language_info": {
      "codemirror_mode": {
        "name": "ipython",
        "version": 3
      },
      "file_extension": ".py",
      "mimetype": "text/x-python",
      "name": "python",
      "nbconvert_exporter": "python",
      "pygments_lexer": "ipython3",
      "version": "3.12.6"
    },
    "colab": {
      "provenance": [],
      "include_colab_link": true
    }
  },
  "nbformat": 4,
  "nbformat_minor": 5
}