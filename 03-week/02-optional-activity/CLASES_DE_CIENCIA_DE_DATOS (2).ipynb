{
  "nbformat": 4,
  "nbformat_minor": 0,
  "metadata": {
    "colab": {
      "provenance": []
    },
    "kernelspec": {
      "name": "python3",
      "display_name": "Python 3"
    },
    "language_info": {
      "name": "python"
    }
  },
  "cells": [
    {
      "cell_type": "markdown",
      "source": [
        "\n",
        "#**CIENCIA DE DATOS**   \n",
        "\n",
        "&nbsp;\n",
        "##**Nombre:** *Julieth Shirley Cruz Posada*\n",
        "##**Docente:** *Jesus Ariel Gonzalez Bonilla*\n",
        "\n",
        "&nbsp;\n",
        "###***Universidad:** Corporación Universitaria del Huila - CORHUILA*\n",
        "###***Asignatura:** Ciencia de datos*\n",
        "###***Carrera:** Ingeniería Mecatrónica*\n",
        "\n",
        "&nbsp;\n",
        "\n",
        "**Neiva – Huila**    \n",
        "**Agosto 16, 2025**   \n",
        "\n"
      ],
      "metadata": {
        "id": "7s62adet-EmC"
      }
    },
    {
      "cell_type": "markdown",
      "source": [
        "#**REPOSITORIO EN GIT**\n",
        "\n",
        "## **1. Semana 1**\n",
        "\n",
        " En la primera clase se mencionó que trabajaríamos con Python, y dado que la mayoría no contamos con un conocimiento sólido en programación, se acordó que podríamos apoyarnos en herramientas de inteligencia artificial, aclarando que estas serían solo un apoyo y no quienes realizarían todo el trabajo por nosotros, además de que era necesario dar instrucciones claras para que funcionen de manera adecuada. También se explicó que debíamos tener una cuenta en GitHub, ya que allí trabajaríamos con un repositorio proporcionado por el profesor, el cual debíamos copiar mediante la función fork para así convertirlo en nuestro propio repositorio editable. Se presentó el horario de las clases presenciales, los días sábados de 6:00 a 8:00, con la posibilidad de realizar reuniones virtuales cuando sea necesario. En cuanto a la evaluación, se explicó que está dividida en tres momentos con diferentes porcentajes de calificación, incorporando autoevaluación, coevaluación y heteroevaluación, además de diversas estrategias como talleres, ejercicios, proyectos y parciales, todo bajo el uso de rúbricas para garantizar transparencia y evitar conflictos en la calificación. Finalmente, se abordó una introducción a la ciencia de datos, tema que se desarrollará con mayor profundidad en el transcurso del curso.\n",
        "\n",
        "&nbsp;\n",
        "### **1.1 Mi Repositorio en GitHub**\n",
        "[ciencia-datos-2025-b-g1](https://github.com/JuliethCruz01/ciencia-datos-2025-b-g1/blob/main/02-week/01-session/doc_md.md)\n",
        "\n",
        "&nbsp;\n",
        "### **1.2 Horario**\n",
        "Las sesiones de clase se desarrollarán de manera **presencial** en el horario asignado para el curso:\n",
        "\n",
        "**Días:** Sabados\n",
        "\n",
        "**Hora:** 6:00 - 8:00\n",
        "\n",
        "La asistencia puntual y la participación activa son fundamentales.\n",
        "\n",
        "&nbsp;\n",
        "### **1.3 Reuniones Virtuales (cuando se requieran)**\n",
        "\n",
        "En caso de ser necesario realizar alguna reunión virtual complementaria, se dispondrá de un enlace de Google Meet:\n",
        "\n",
        "[👉 Acceder a la reunión en Google Meet](https://meet.google.com/pga-aona-dtr)\n",
        "\n",
        "\n",
        "&nbsp;\n",
        "### **1.4 Evaluación:**\n",
        "\n",
        "La evaluación del curso se distribuye en tres momentos a lo largo del semestre. Cada momento tiene un peso específico en la calificación final y emplea diversas estrategias de evaluación, detalladas a continuación:\n",
        "\n",
        "![Evaluación](img/Evaluación.png)\n",
        "\n",
        "&nbsp;\n",
        "### **1.5 Observaciones:**\n",
        "\n",
        "Es fundamental respetar las fechas de entrega establecidas para cada momento de evaluación.\n",
        "La autoevaluación y coevaluación representan un pequeño porcentaje de la calificación total, pero son esenciales para la reflexión individual y el aprendizaje colaborativo.\n",
        "Se recomienda que en cada momento de evaluación se apliquen al menos tres estrategias de evaluación, tales como trabajos, ensayos, presentaciones, pruebas orales y escritas, talleres, estudios de caso, prácticas de campo y laboratorios.\n",
        "\n",
        "&nbsp;\n",
        "### **1.6 Curso complementario 10%**\n",
        "[Link del Curso complementario, 👉 Presione aquí](https://skills.yourlearning.ibm.com/activity/PLAN-BC0FAEE8E439?channelId=CNL_LCB_1592251313526)\n",
        "\n",
        "&nbsp;\n",
        "### **1.7 Tema de clase**\n",
        "\n",
        "**🎯 Objetivo General**\n",
        "\n",
        "Desarrollar competencias en el análisis, procesamiento y visualización de grandes volúmenes de datos para extraer conocimiento valioso que apoye la toma de decisiones estratégicas en  organizaciones.\n",
        "\n",
        "**Descripción General**\n",
        "\n",
        "La Ciencia de Datos es una disciplina interdisciplinaria que combina estadística, programación, matemáticas y conocimiento del dominio para extraer insights valiosos de los datos. Esta asignatura proporciona las herramientas y metodologías necesarias para convertir datos en conocimiento accionable.\n",
        "\n",
        "**Lo que aprenderás**\n",
        "\n",
        "\n",
        "1. ***Análisis Exploratorio de Datos (EDA)*** Técnicas para comprender la estructura, patrones y anomalías en conjuntos de datos complejos.\n",
        "\n",
        "2. ***Machine Learning y Modelado Predictivo*** Algoritmos de aprendizaje supervisado y no supervisado para predicción y clasificación de datos.\n",
        "\n",
        "3. ***Visualización de Datos*** Creación de gráficos, dashboards y visualizaciones interactivas para comunicar hallazgos de\n",
        "manera efectiva.\n",
        "\n",
        "4. ***Big Data y Herramientas Especializadas*** Manejo de grandes volúmenes de datos utilizando Python, R, SQL, Spark y herramientas de\n",
        "visualización.   \n",
        "\n",
        "**Temas Relevantes del Curso**\n",
        "\n",
        "- ***Fundamentos Estadísticos:*** Estadística descriptiva e inferencial aplicada\n",
        "- ***Programación para Datos:*** Python (Pandas, NumPy, Scikit-learn), R\n",
        "- ***Machine Learning:*** Regresión, Clasificación, Clustering, Redes Neuronales\n",
        "- ***Visualización:*** Matplotlib, Seaborn, Plotly, Tableau, Power BI\n",
        "- ***Bases de Datos:*** SQL avanzado, NoSQL, Data Warehousing\n",
        "- ***Big Data:*** Apache Spark, Hadoop, herramientas de procesamiento distribuido\n",
        "\n",
        "**⚠ Importancia en la Carrera**\n",
        "\n",
        "En la era de la transformación digital, los datos son el nuevo petróleo. Los profesionales en ciencia de datos son altamente demandados en todas las industrias, desde fintech hasta salud, retail y gobierno.\n",
        "\n",
        "**💼 Aplicaciones Profesionales**\n",
        "\n",
        "\n",
        "- ***Data Scientist*** - Análisis avanzado y modelado predictivo\n",
        "- ***Data Analyst*** - Análisis de negocio y reporting\n",
        "- ***Machine Learning Engineer*** - Implementación de modelos en producción\n",
        "- ***Business Intelligence Analyst*** - Inteligencia de negocio y dashboards\n",
        "- ***Data Engineer*** - Arquitectura y pipelines de datos\n",
        "- ***Research Analyst*** - Investigación basada en datos\n",
        "\n",
        "**Visualización: Pipeline de Ciencia de Datos**\n",
        "![Pipeline de Ciencia de datos](Pipeline.png)\n",
        "\n",
        "&nbsp;\n",
        "### **1.8 Tarea**\n",
        "\n",
        "**Paso 1:** Registrarse en git\n",
        "\n",
        "![Registro](Registro.png)\n",
        "\n",
        " Nota: Para la materia Ciencia de datos se debe realizar mediante un fork sobre:\n",
        "\n",
        " [👉Repositortio de Corhuila - Ciencia de datos](https://github.com/code-corhuila/ciencia-datos-2025-b-g1.git)\n",
        "\n",
        "&nbsp;\n",
        "## **2. Semana 2**\n",
        "\n",
        "En esta clase se explicó que trabajaríamos principalmente con la herramienta Google Colab, aunque también se podía usar un entorno local como Visual Studio Code. Aprendimos a realizar nuestro primer ejercicio en Python, el cual consistía en un programa que determinaba si una persona era menor de edad, mayor de edad o si la edad ingresada era incorrecta. También se revisó qué estudiantes habían cumplido con la tarea de copiar el repositorio del profesor a su propio GitHub mediante la función fork. Además, se introdujeron conceptos básicos sobre GitHub y GitLab, aclarando sus diferencias y usos. Finalmente, se explicaron los parámetros básicos de Markdown, resaltando cómo funciona, cómo se utiliza y cómo incluso se puede incorporar código dentro de Colab.\n",
        "\n",
        "&nbsp;\n",
        "### **2.1 Diferencia entre GitHub y GitLab**\n",
        "\n",
        "**GitHub**\n",
        "\n",
        "- Es una plataforma en la nube donde puedes guardar tus proyectos que usan Git.\n",
        "\n",
        "- Es la más popular y se usa muchísimo en la industria y la academia.\n",
        "\n",
        "- Permite colaborar fácilmente con otras personas (clases, equipos de trabajo, proyectos open source).\n",
        "\n",
        "- Ofrece integración con muchas herramientas, por ejemplo, GitHub Actions para automatizar pruebas y despliegues.\n",
        "\n",
        "- Tiene planes gratuitos y pagos, pero la mayoría de estudiantes con lo gratuito tienen de sobra.\n",
        "\n",
        "**GitLab**\n",
        "\n",
        "- También es una plataforma para proyectos con Git, pero su enfoque es un poco diferente.\n",
        "\n",
        "- GitLab se usa mucho en empresas porque se puede instalar en sus propios servidores (self-hosted) y así tener más control y seguridad.\n",
        "\n",
        "- Tiene integraciones más avanzadas de DevOps (gestión de código, pruebas, despliegue, CI/CD todo en uno).\n",
        "\n",
        "- No es tan popular como GitHub, pero es muy potente para equipos que quieren centralizar todo su ciclo de desarrollo.\n",
        "\n",
        "### **2.2 Primer Ejemplo de Phyton**\n",
        "\n",
        "Saber si una persona es mayor o menor de edad."
      ],
      "metadata": {
        "id": "VMeEKSGiC-FV"
      }
    },
    {
      "cell_type": "code",
      "source": [
        "edad = int(input(\"Digite la edad de la persona: \"))\n",
        "\n",
        "if edad > 0 and edad < 130:\n",
        "  if edad >= 18:\n",
        "    print(\"Mayor de edad\")\n",
        "  else:\n",
        "    print(\"Menor de edad\")\n",
        "else:\n",
        "  print(\"Edad incorrecta\")"
      ],
      "metadata": {
        "colab": {
          "base_uri": "https://localhost:8080/"
        },
        "id": "lF4Xs2CnsR0o",
        "outputId": "6efe2aed-cf6c-4de1-ed54-c26ca1ee9f3e"
      },
      "execution_count": 1,
      "outputs": [
        {
          "output_type": "stream",
          "name": "stdout",
          "text": [
            "Digite la edad de la persona: 36\n",
            "Mayor de edad\n"
          ]
        }
      ]
    },
    {
      "cell_type": "markdown",
      "source": [],
      "metadata": {
        "id": "UMmPkermxWO8"
      }
    },
    {
      "cell_type": "markdown",
      "source": [
        "\n",
        "### **2.3 Documentación de etiquetas Markdown**\n",
        "\n",
        "Markdown es un lenguaje de marcado ligero que permite dar formato al texto de manera sencilla. A continuación se explican las etiquetas más comunes y se presenta una tabla de referencia:\n",
        "\n",
        "**Principales etiquetas Markdown**\n",
        "\n",
        "![Principales Etiquetas de Markdown](Etiqueta.png)\n",
        "\n",
        "**Ejemplo de uso**\n",
        "\n",
        "![Ejemplo de uso](Ejemplo.png)\n",
        "\n",
        "&nbsp;\n",
        "### **2.4 Introducción a Git**\n",
        "\n",
        "Se realizo en base al siguiente documento:\n",
        "[PDF Introducción a Git](git.pdf)\n",
        "\n",
        "### **2.4 Segundo ejercicio en Phyton para practicar**"
      ],
      "metadata": {
        "id": "UyfL6uM1sbUj"
      }
    },
    {
      "cell_type": "markdown",
      "source": [
        "**💻 Problema: Clasificación de notas**\n",
        "\n",
        "Haz un programa en Python que pida al usuario una nota (entre 0 y 5) y muestre en pantalla su clasificación:\n",
        "\n",
        "Si la nota es menor a 3: \"Reprobado\"\n",
        "\n",
        "Si la nota es entre 3 y 3.9: \"Aprobado\"\n",
        "\n",
        "Si la nota es entre 4 y 4.5: \"Notable\"\n",
        "\n",
        "Si la nota es entre 4.6 y 5: \"Excelente\"\n",
        "\n",
        "Si la nota está fuera de ese rango: \"Nota inválida\"\n",
        "\n",
        "&nbsp;\n",
        "\n",
        "***EXISTEN MUCHAS FORMAS DE HACERLO***\n",
        "\n",
        "&nbsp;\n",
        "\n",
        "**1. PRIMERA FORMA:**"
      ],
      "metadata": {
        "id": "Q0KMGSsxv-t2"
      }
    },
    {
      "cell_type": "code",
      "source": [
        "# Esto se utiliza para crear un comentario\n",
        "import sys  # importamos la librería\n",
        "\n",
        "print(sys.version)   # muestra la versión de Python\n",
        "print(sys.platform)  # muestra la versión del sistema operativo\n",
        "\n",
        "Nota = float(input(\"Digite su nota: \"))\n",
        "\n",
        "if Nota >= 0 and Nota <= 5:\n",
        "    if Nota < 3:\n",
        "        print(\"Reprobado\")\n",
        "    elif Nota < 4:\n",
        "        print(\"Aprobado\")\n",
        "    elif Nota < 4.6:\n",
        "        print(\"Notable\")\n",
        "    else:\n",
        "        print(\"Excelente\")\n",
        "else:\n",
        "    print(\"Nota inválida\")\n",
        "\n"
      ],
      "metadata": {
        "colab": {
          "base_uri": "https://localhost:8080/"
        },
        "id": "CE4qJ-X3vAu6",
        "outputId": "bd0f77e2-92ad-485d-bb52-dace70022bbd"
      },
      "execution_count": 5,
      "outputs": [
        {
          "output_type": "stream",
          "name": "stdout",
          "text": [
            "3.12.11 (main, Jun  4 2025, 08:56:18) [GCC 11.4.0]\n",
            "linux\n",
            "Digite su nota: 4.2\n",
            "Notable\n"
          ]
        }
      ]
    },
    {
      "cell_type": "markdown",
      "source": [
        "&nbsp;\n",
        "\n",
        "**2. SEGUNDA FORMA:**"
      ],
      "metadata": {
        "id": "JwQHcdPhzwuZ"
      }
    },
    {
      "cell_type": "code",
      "source": [
        "Nota = float(input(\"Digite su nota: \"))\n",
        "\n",
        "if Nota >= 0 and Nota <= 5:   # Validamos que esté en el rango válido\n",
        "    if Nota < 3:\n",
        "        print(\"Reprobado\")\n",
        "    else:\n",
        "        if Nota < 4:\n",
        "            print(\"Aprobado\")\n",
        "        else:\n",
        "            if Nota < 4.6:\n",
        "                print(\"Notable\")\n",
        "            else:\n",
        "                print(\"Excelente\")\n",
        "else:\n",
        "    print(\"Nota inválida\")\n"
      ],
      "metadata": {
        "colab": {
          "base_uri": "https://localhost:8080/"
        },
        "id": "qFDlJfwwyQfi",
        "outputId": "b7bcaeac-11ad-4875-beb3-608778b0b25b"
      },
      "execution_count": 4,
      "outputs": [
        {
          "output_type": "stream",
          "name": "stdout",
          "text": [
            "Digite su nota: 4.2\n",
            "Notable\n"
          ]
        }
      ]
    },
    {
      "cell_type": "markdown",
      "source": [
        "&nbsp;\n",
        "\n",
        "**3. TERCERA FORMA:**"
      ],
      "metadata": {
        "id": "w59cdbpOz0Tq"
      }
    },
    {
      "cell_type": "code",
      "source": [
        "Nota = float(input(\"Digite su nota: \"))\n",
        "\n",
        "if Nota >= 0 and Nota <= 5:\n",
        "    if Nota < 3:\n",
        "        print(\"Reprobado\")\n",
        "    if Nota >= 3 and Nota <= 3.9:\n",
        "        print(\"Aprobado\")\n",
        "    if Nota >= 4 and Nota <= 4.5:\n",
        "        print(\"Notable\")\n",
        "    if Nota >= 4.6 and Nota <= 5:\n",
        "        print(\"Excelente\")\n",
        "else:\n",
        "    print(\"Nota inválida\")\n"
      ],
      "metadata": {
        "colab": {
          "base_uri": "https://localhost:8080/"
        },
        "id": "RN8vZlPQy_vI",
        "outputId": "de32dd81-e9a7-40e4-b2a3-61f28da939c2"
      },
      "execution_count": 7,
      "outputs": [
        {
          "output_type": "stream",
          "name": "stdout",
          "text": [
            "Digite su nota: 4.6\n",
            "Excelente\n"
          ]
        }
      ]
    },
    {
      "cell_type": "markdown",
      "source": [
        "\n",
        "## **3. Semana 3**\n",
        "\n",
        "&nbsp;\n",
        "###**3.1. Taller 1: Introducción a la Ciencia de Datos**\n",
        "\n",
        "**Datos del trabajo:**\n",
        "\n",
        "***Autor:*** Jesús Ariel González Bonilla\n",
        "\n",
        "***Fecha:*** 23 de Agosto 2025\n",
        "\n",
        "***Materia:*** Ciencia de Datos\n",
        "\n",
        "&nbsp;\n",
        "\n",
        "***1. Definición de Ciencia de Datos:***\n",
        "\n",
        "La Ciencia de Datos es una disciplina que combina estadística, matemáticas, programación y conocimiento del dominio para extraer información útil de grandes volúmenes de datos. Su objetivo principal es convertir datos en conocimiento que sirva para tomar mejores decisiones.\n",
        "\n",
        "&nbsp;\n",
        "\n",
        "***2. Roles en la Ciencia de Datos***\n",
        "\n",
        "Dentro de un equipo de Ciencia de Datos existen varios perfiles importantes:\n",
        "\n",
        "- ***Científico/a de Datos (Data Scientist):*** Diseña modelos estadísticos y de machine learning para resolver problemas específicos.\n",
        "\n",
        "- ***Ingeniero/a de Datos (Data Engineer):*** Se encarga de la infraestructura, la limpieza y la integración de grandes volúmenes de datos.\n",
        "\n",
        "- ***Analista de Datos (Data Analyst):*** Se enfoca en interpretar datos, generar reportes y visualizaciones para la toma de decisiones.\n",
        "\n",
        "- ***Especialista en Machine Learning (ML Engineer):*** Implementa y despliega modelos predictivos en entornos productivos.\n",
        "\n",
        "&nbsp;\n",
        "\n",
        "***3. ¿Qué son los dataset?***\n",
        "\n",
        "Un dataset (conjunto de datos) es una colección organizada de información estructurada o no estructurada que puede almacenarse en diferentes formatos (ejemplo: .csv, .xlsx, .json, .sql). Los datasets son la materia prima de la Ciencia de Datos, ya que a partir de ellos se hacen análisis, visualizaciones y modelos predictivos.\n",
        "\n",
        "&nbsp;\n",
        "\n",
        "***4. Lineas de código que permite cargar un (.xlx, .xlsx, .csv u otro formato de data); Luego pasar este documento a un dataframe (df)***\n"
      ],
      "metadata": {
        "id": "w0ZTpsjgs_1A"
      }
    },
    {
      "cell_type": "code",
      "source": [
        "import pandas as pd\n",
        "\n",
        "# Cargar archivo CSV\n",
        "dataFrem_csv = pd.read_csv(\"estudiantes.csv\")\n",
        "\n",
        "# Cargar archivo Excel moderno (.xlsx)\n",
        "df_xlsx = pd.read_excel(\"estudiantes.xlsx\")\n",
        "\n",
        "# Cargar archivo Excel versión antigua (.xls)\n",
        "#df_xls = pd.read_excel(\"archivo.xls\")\n",
        "\n",
        "# Cargar archivo en formato JSON\n",
        "#df_json = pd.read_json(\"archivo.json\")\n",
        "\n",
        "# Cargar archivo en formato de texto separado por tabulaciones (.txt)\n",
        "#df_txt = pd.read_csv(\"archivo.txt\", sep=\"\\t\")\n"
      ],
      "metadata": {
        "colab": {
          "base_uri": "https://localhost:8080/",
          "height": 356
        },
        "collapsed": true,
        "id": "_VL_ZboX2vtu",
        "outputId": "55459e4d-8790-4cea-c58d-2124f073d34c"
      },
      "execution_count": 9,
      "outputs": [
        {
          "output_type": "error",
          "ename": "FileNotFoundError",
          "evalue": "[Errno 2] No such file or directory: 'archivo.csv'",
          "traceback": [
            "\u001b[0;31m---------------------------------------------------------------------------\u001b[0m",
            "\u001b[0;31mFileNotFoundError\u001b[0m                         Traceback (most recent call last)",
            "\u001b[0;32m/tmp/ipython-input-1531765481.py\u001b[0m in \u001b[0;36m<cell line: 0>\u001b[0;34m()\u001b[0m\n\u001b[1;32m      2\u001b[0m \u001b[0;34m\u001b[0m\u001b[0m\n\u001b[1;32m      3\u001b[0m \u001b[0;31m# Cargar archivo CSV\u001b[0m\u001b[0;34m\u001b[0m\u001b[0;34m\u001b[0m\u001b[0m\n\u001b[0;32m----> 4\u001b[0;31m \u001b[0mdf_csv\u001b[0m \u001b[0;34m=\u001b[0m \u001b[0mpd\u001b[0m\u001b[0;34m.\u001b[0m\u001b[0mread_csv\u001b[0m\u001b[0;34m(\u001b[0m\u001b[0;34m\"archivo.csv\"\u001b[0m\u001b[0;34m)\u001b[0m\u001b[0;34m\u001b[0m\u001b[0;34m\u001b[0m\u001b[0m\n\u001b[0m\u001b[1;32m      5\u001b[0m \u001b[0;34m\u001b[0m\u001b[0m\n\u001b[1;32m      6\u001b[0m \u001b[0;31m# Cargar archivo Excel versión antigua (.xls)\u001b[0m\u001b[0;34m\u001b[0m\u001b[0;34m\u001b[0m\u001b[0m\n",
            "\u001b[0;32m/usr/local/lib/python3.12/dist-packages/pandas/io/parsers/readers.py\u001b[0m in \u001b[0;36mread_csv\u001b[0;34m(filepath_or_buffer, sep, delimiter, header, names, index_col, usecols, dtype, engine, converters, true_values, false_values, skipinitialspace, skiprows, skipfooter, nrows, na_values, keep_default_na, na_filter, verbose, skip_blank_lines, parse_dates, infer_datetime_format, keep_date_col, date_parser, date_format, dayfirst, cache_dates, iterator, chunksize, compression, thousands, decimal, lineterminator, quotechar, quoting, doublequote, escapechar, comment, encoding, encoding_errors, dialect, on_bad_lines, delim_whitespace, low_memory, memory_map, float_precision, storage_options, dtype_backend)\u001b[0m\n\u001b[1;32m   1024\u001b[0m     \u001b[0mkwds\u001b[0m\u001b[0;34m.\u001b[0m\u001b[0mupdate\u001b[0m\u001b[0;34m(\u001b[0m\u001b[0mkwds_defaults\u001b[0m\u001b[0;34m)\u001b[0m\u001b[0;34m\u001b[0m\u001b[0;34m\u001b[0m\u001b[0m\n\u001b[1;32m   1025\u001b[0m \u001b[0;34m\u001b[0m\u001b[0m\n\u001b[0;32m-> 1026\u001b[0;31m     \u001b[0;32mreturn\u001b[0m \u001b[0m_read\u001b[0m\u001b[0;34m(\u001b[0m\u001b[0mfilepath_or_buffer\u001b[0m\u001b[0;34m,\u001b[0m \u001b[0mkwds\u001b[0m\u001b[0;34m)\u001b[0m\u001b[0;34m\u001b[0m\u001b[0;34m\u001b[0m\u001b[0m\n\u001b[0m\u001b[1;32m   1027\u001b[0m \u001b[0;34m\u001b[0m\u001b[0m\n\u001b[1;32m   1028\u001b[0m \u001b[0;34m\u001b[0m\u001b[0m\n",
            "\u001b[0;32m/usr/local/lib/python3.12/dist-packages/pandas/io/parsers/readers.py\u001b[0m in \u001b[0;36m_read\u001b[0;34m(filepath_or_buffer, kwds)\u001b[0m\n\u001b[1;32m    618\u001b[0m \u001b[0;34m\u001b[0m\u001b[0m\n\u001b[1;32m    619\u001b[0m     \u001b[0;31m# Create the parser.\u001b[0m\u001b[0;34m\u001b[0m\u001b[0;34m\u001b[0m\u001b[0m\n\u001b[0;32m--> 620\u001b[0;31m     \u001b[0mparser\u001b[0m \u001b[0;34m=\u001b[0m \u001b[0mTextFileReader\u001b[0m\u001b[0;34m(\u001b[0m\u001b[0mfilepath_or_buffer\u001b[0m\u001b[0;34m,\u001b[0m \u001b[0;34m**\u001b[0m\u001b[0mkwds\u001b[0m\u001b[0;34m)\u001b[0m\u001b[0;34m\u001b[0m\u001b[0;34m\u001b[0m\u001b[0m\n\u001b[0m\u001b[1;32m    621\u001b[0m \u001b[0;34m\u001b[0m\u001b[0m\n\u001b[1;32m    622\u001b[0m     \u001b[0;32mif\u001b[0m \u001b[0mchunksize\u001b[0m \u001b[0;32mor\u001b[0m \u001b[0miterator\u001b[0m\u001b[0;34m:\u001b[0m\u001b[0;34m\u001b[0m\u001b[0;34m\u001b[0m\u001b[0m\n",
            "\u001b[0;32m/usr/local/lib/python3.12/dist-packages/pandas/io/parsers/readers.py\u001b[0m in \u001b[0;36m__init__\u001b[0;34m(self, f, engine, **kwds)\u001b[0m\n\u001b[1;32m   1618\u001b[0m \u001b[0;34m\u001b[0m\u001b[0m\n\u001b[1;32m   1619\u001b[0m         \u001b[0mself\u001b[0m\u001b[0;34m.\u001b[0m\u001b[0mhandles\u001b[0m\u001b[0;34m:\u001b[0m \u001b[0mIOHandles\u001b[0m \u001b[0;34m|\u001b[0m \u001b[0;32mNone\u001b[0m \u001b[0;34m=\u001b[0m \u001b[0;32mNone\u001b[0m\u001b[0;34m\u001b[0m\u001b[0;34m\u001b[0m\u001b[0m\n\u001b[0;32m-> 1620\u001b[0;31m         \u001b[0mself\u001b[0m\u001b[0;34m.\u001b[0m\u001b[0m_engine\u001b[0m \u001b[0;34m=\u001b[0m \u001b[0mself\u001b[0m\u001b[0;34m.\u001b[0m\u001b[0m_make_engine\u001b[0m\u001b[0;34m(\u001b[0m\u001b[0mf\u001b[0m\u001b[0;34m,\u001b[0m \u001b[0mself\u001b[0m\u001b[0;34m.\u001b[0m\u001b[0mengine\u001b[0m\u001b[0;34m)\u001b[0m\u001b[0;34m\u001b[0m\u001b[0;34m\u001b[0m\u001b[0m\n\u001b[0m\u001b[1;32m   1621\u001b[0m \u001b[0;34m\u001b[0m\u001b[0m\n\u001b[1;32m   1622\u001b[0m     \u001b[0;32mdef\u001b[0m \u001b[0mclose\u001b[0m\u001b[0;34m(\u001b[0m\u001b[0mself\u001b[0m\u001b[0;34m)\u001b[0m \u001b[0;34m->\u001b[0m \u001b[0;32mNone\u001b[0m\u001b[0;34m:\u001b[0m\u001b[0;34m\u001b[0m\u001b[0;34m\u001b[0m\u001b[0m\n",
            "\u001b[0;32m/usr/local/lib/python3.12/dist-packages/pandas/io/parsers/readers.py\u001b[0m in \u001b[0;36m_make_engine\u001b[0;34m(self, f, engine)\u001b[0m\n\u001b[1;32m   1878\u001b[0m                 \u001b[0;32mif\u001b[0m \u001b[0;34m\"b\"\u001b[0m \u001b[0;32mnot\u001b[0m \u001b[0;32min\u001b[0m \u001b[0mmode\u001b[0m\u001b[0;34m:\u001b[0m\u001b[0;34m\u001b[0m\u001b[0;34m\u001b[0m\u001b[0m\n\u001b[1;32m   1879\u001b[0m                     \u001b[0mmode\u001b[0m \u001b[0;34m+=\u001b[0m \u001b[0;34m\"b\"\u001b[0m\u001b[0;34m\u001b[0m\u001b[0;34m\u001b[0m\u001b[0m\n\u001b[0;32m-> 1880\u001b[0;31m             self.handles = get_handle(\n\u001b[0m\u001b[1;32m   1881\u001b[0m                 \u001b[0mf\u001b[0m\u001b[0;34m,\u001b[0m\u001b[0;34m\u001b[0m\u001b[0;34m\u001b[0m\u001b[0m\n\u001b[1;32m   1882\u001b[0m                 \u001b[0mmode\u001b[0m\u001b[0;34m,\u001b[0m\u001b[0;34m\u001b[0m\u001b[0;34m\u001b[0m\u001b[0m\n",
            "\u001b[0;32m/usr/local/lib/python3.12/dist-packages/pandas/io/common.py\u001b[0m in \u001b[0;36mget_handle\u001b[0;34m(path_or_buf, mode, encoding, compression, memory_map, is_text, errors, storage_options)\u001b[0m\n\u001b[1;32m    871\u001b[0m         \u001b[0;32mif\u001b[0m \u001b[0mioargs\u001b[0m\u001b[0;34m.\u001b[0m\u001b[0mencoding\u001b[0m \u001b[0;32mand\u001b[0m \u001b[0;34m\"b\"\u001b[0m \u001b[0;32mnot\u001b[0m \u001b[0;32min\u001b[0m \u001b[0mioargs\u001b[0m\u001b[0;34m.\u001b[0m\u001b[0mmode\u001b[0m\u001b[0;34m:\u001b[0m\u001b[0;34m\u001b[0m\u001b[0;34m\u001b[0m\u001b[0m\n\u001b[1;32m    872\u001b[0m             \u001b[0;31m# Encoding\u001b[0m\u001b[0;34m\u001b[0m\u001b[0;34m\u001b[0m\u001b[0m\n\u001b[0;32m--> 873\u001b[0;31m             handle = open(\n\u001b[0m\u001b[1;32m    874\u001b[0m                 \u001b[0mhandle\u001b[0m\u001b[0;34m,\u001b[0m\u001b[0;34m\u001b[0m\u001b[0;34m\u001b[0m\u001b[0m\n\u001b[1;32m    875\u001b[0m                 \u001b[0mioargs\u001b[0m\u001b[0;34m.\u001b[0m\u001b[0mmode\u001b[0m\u001b[0;34m,\u001b[0m\u001b[0;34m\u001b[0m\u001b[0;34m\u001b[0m\u001b[0m\n",
            "\u001b[0;31mFileNotFoundError\u001b[0m: [Errno 2] No such file or directory: 'archivo.csv'"
          ]
        }
      ]
    },
    {
      "cell_type": "markdown",
      "source": [
        "***5. Generar una gráfica con el anterior df***"
      ],
      "metadata": {
        "id": "1B9UWaaK3SMH"
      }
    },
    {
      "cell_type": "code",
      "source": [
        "# Importamos las librerías necesarias\n",
        "import pandas as pd              # 'pandas' sirve para trabajar con datos en tablas (como en Excel)\n",
        "import matplotlib.pyplot as plt  # 'matplotlib' sirve para crear gráficas\n",
        "\n",
        "# 1. Cargar el archivo Excel en un DataFrame\n",
        "# Un DataFrame es como una tabla en Excel, pero dentro de Python\n",
        "df = pd.read_excel(\"estudiantes.xlsx\")\n",
        "\n",
        "# 2. Ver los primeros datos de la tabla\n",
        "# Esto no es obligatorio, pero sirve para revisar que los datos se cargaron bien\n",
        "print(df.head())  # 'head()' muestra solo las primeras 5 filas de la tabla\n",
        "#print(df.head(10)) para ver mas filas\n",
        "\n",
        "# 3. Crear una gráfica de barras\n",
        "# plt.figure() define el tamaño de la imagen (10 de ancho x 6 de alto)\n",
        "plt.figure(figsize=(10,6))\n",
        "\n",
        "# plt.bar() hace una gráfica de barras\n",
        "# df[\"Nombre\"] son los nombres de los estudiantes (eje X)\n",
        "# df[\"Edad\"] son las edades de cada estudiante (eje Y)\n",
        "# color=\"skyblue\" le da un color celeste a las barras\n",
        "plt.bar(df[\"Nombre\"], df[\"Edad\"], color=\"skyblue\")\n",
        "\n",
        "# 4. Poner títulos y etiquetas a la gráfica\n",
        "plt.title(\"Edades de Estudiantes\")  # Título de la gráfica\n",
        "plt.xlabel(\"Nombre\")                # Texto debajo del eje X\n",
        "plt.ylabel(\"Edad\")                  # Texto al lado del eje Y\n",
        "\n",
        "# 5. Mostrar la gráfica en pantalla\n",
        "plt.show()  # Sin esto, la gráfica no aparece"
      ],
      "metadata": {
        "colab": {
          "base_uri": "https://localhost:8080/",
          "height": 356
        },
        "collapsed": true,
        "id": "F4VEJ9r94ydc",
        "outputId": "5368aae0-1262-43bf-8299-c2f2ee8eeada"
      },
      "execution_count": 10,
      "outputs": [
        {
          "output_type": "error",
          "ename": "FileNotFoundError",
          "evalue": "[Errno 2] No such file or directory: 'estudiantes.xlsx'",
          "traceback": [
            "\u001b[0;31m---------------------------------------------------------------------------\u001b[0m",
            "\u001b[0;31mFileNotFoundError\u001b[0m                         Traceback (most recent call last)",
            "\u001b[0;32m/tmp/ipython-input-2810754541.py\u001b[0m in \u001b[0;36m<cell line: 0>\u001b[0;34m()\u001b[0m\n\u001b[1;32m      5\u001b[0m \u001b[0;31m# 1. Cargar el archivo Excel en un DataFrame\u001b[0m\u001b[0;34m\u001b[0m\u001b[0;34m\u001b[0m\u001b[0m\n\u001b[1;32m      6\u001b[0m \u001b[0;31m# Un DataFrame es como una tabla en Excel, pero dentro de Python\u001b[0m\u001b[0;34m\u001b[0m\u001b[0;34m\u001b[0m\u001b[0m\n\u001b[0;32m----> 7\u001b[0;31m \u001b[0mdf\u001b[0m \u001b[0;34m=\u001b[0m \u001b[0mpd\u001b[0m\u001b[0;34m.\u001b[0m\u001b[0mread_excel\u001b[0m\u001b[0;34m(\u001b[0m\u001b[0;34m\"estudiantes.xlsx\"\u001b[0m\u001b[0;34m)\u001b[0m\u001b[0;34m\u001b[0m\u001b[0;34m\u001b[0m\u001b[0m\n\u001b[0m\u001b[1;32m      8\u001b[0m \u001b[0;34m\u001b[0m\u001b[0m\n\u001b[1;32m      9\u001b[0m \u001b[0;31m# 2. Ver los primeros datos de la tabla\u001b[0m\u001b[0;34m\u001b[0m\u001b[0;34m\u001b[0m\u001b[0m\n",
            "\u001b[0;32m/usr/local/lib/python3.12/dist-packages/pandas/io/excel/_base.py\u001b[0m in \u001b[0;36mread_excel\u001b[0;34m(io, sheet_name, header, names, index_col, usecols, dtype, engine, converters, true_values, false_values, skiprows, nrows, na_values, keep_default_na, na_filter, verbose, parse_dates, date_parser, date_format, thousands, decimal, comment, skipfooter, storage_options, dtype_backend, engine_kwargs)\u001b[0m\n\u001b[1;32m    493\u001b[0m     \u001b[0;32mif\u001b[0m \u001b[0;32mnot\u001b[0m \u001b[0misinstance\u001b[0m\u001b[0;34m(\u001b[0m\u001b[0mio\u001b[0m\u001b[0;34m,\u001b[0m \u001b[0mExcelFile\u001b[0m\u001b[0;34m)\u001b[0m\u001b[0;34m:\u001b[0m\u001b[0;34m\u001b[0m\u001b[0;34m\u001b[0m\u001b[0m\n\u001b[1;32m    494\u001b[0m         \u001b[0mshould_close\u001b[0m \u001b[0;34m=\u001b[0m \u001b[0;32mTrue\u001b[0m\u001b[0;34m\u001b[0m\u001b[0;34m\u001b[0m\u001b[0m\n\u001b[0;32m--> 495\u001b[0;31m         io = ExcelFile(\n\u001b[0m\u001b[1;32m    496\u001b[0m             \u001b[0mio\u001b[0m\u001b[0;34m,\u001b[0m\u001b[0;34m\u001b[0m\u001b[0;34m\u001b[0m\u001b[0m\n\u001b[1;32m    497\u001b[0m             \u001b[0mstorage_options\u001b[0m\u001b[0;34m=\u001b[0m\u001b[0mstorage_options\u001b[0m\u001b[0;34m,\u001b[0m\u001b[0;34m\u001b[0m\u001b[0;34m\u001b[0m\u001b[0m\n",
            "\u001b[0;32m/usr/local/lib/python3.12/dist-packages/pandas/io/excel/_base.py\u001b[0m in \u001b[0;36m__init__\u001b[0;34m(self, path_or_buffer, engine, storage_options, engine_kwargs)\u001b[0m\n\u001b[1;32m   1548\u001b[0m                 \u001b[0mext\u001b[0m \u001b[0;34m=\u001b[0m \u001b[0;34m\"xls\"\u001b[0m\u001b[0;34m\u001b[0m\u001b[0;34m\u001b[0m\u001b[0m\n\u001b[1;32m   1549\u001b[0m             \u001b[0;32melse\u001b[0m\u001b[0;34m:\u001b[0m\u001b[0;34m\u001b[0m\u001b[0;34m\u001b[0m\u001b[0m\n\u001b[0;32m-> 1550\u001b[0;31m                 ext = inspect_excel_format(\n\u001b[0m\u001b[1;32m   1551\u001b[0m                     \u001b[0mcontent_or_path\u001b[0m\u001b[0;34m=\u001b[0m\u001b[0mpath_or_buffer\u001b[0m\u001b[0;34m,\u001b[0m \u001b[0mstorage_options\u001b[0m\u001b[0;34m=\u001b[0m\u001b[0mstorage_options\u001b[0m\u001b[0;34m\u001b[0m\u001b[0;34m\u001b[0m\u001b[0m\n\u001b[1;32m   1552\u001b[0m                 )\n",
            "\u001b[0;32m/usr/local/lib/python3.12/dist-packages/pandas/io/excel/_base.py\u001b[0m in \u001b[0;36minspect_excel_format\u001b[0;34m(content_or_path, storage_options)\u001b[0m\n\u001b[1;32m   1400\u001b[0m         \u001b[0mcontent_or_path\u001b[0m \u001b[0;34m=\u001b[0m \u001b[0mBytesIO\u001b[0m\u001b[0;34m(\u001b[0m\u001b[0mcontent_or_path\u001b[0m\u001b[0;34m)\u001b[0m\u001b[0;34m\u001b[0m\u001b[0;34m\u001b[0m\u001b[0m\n\u001b[1;32m   1401\u001b[0m \u001b[0;34m\u001b[0m\u001b[0m\n\u001b[0;32m-> 1402\u001b[0;31m     with get_handle(\n\u001b[0m\u001b[1;32m   1403\u001b[0m         \u001b[0mcontent_or_path\u001b[0m\u001b[0;34m,\u001b[0m \u001b[0;34m\"rb\"\u001b[0m\u001b[0;34m,\u001b[0m \u001b[0mstorage_options\u001b[0m\u001b[0;34m=\u001b[0m\u001b[0mstorage_options\u001b[0m\u001b[0;34m,\u001b[0m \u001b[0mis_text\u001b[0m\u001b[0;34m=\u001b[0m\u001b[0;32mFalse\u001b[0m\u001b[0;34m\u001b[0m\u001b[0;34m\u001b[0m\u001b[0m\n\u001b[1;32m   1404\u001b[0m     ) as handle:\n",
            "\u001b[0;32m/usr/local/lib/python3.12/dist-packages/pandas/io/common.py\u001b[0m in \u001b[0;36mget_handle\u001b[0;34m(path_or_buf, mode, encoding, compression, memory_map, is_text, errors, storage_options)\u001b[0m\n\u001b[1;32m    880\u001b[0m         \u001b[0;32melse\u001b[0m\u001b[0;34m:\u001b[0m\u001b[0;34m\u001b[0m\u001b[0;34m\u001b[0m\u001b[0m\n\u001b[1;32m    881\u001b[0m             \u001b[0;31m# Binary mode\u001b[0m\u001b[0;34m\u001b[0m\u001b[0;34m\u001b[0m\u001b[0m\n\u001b[0;32m--> 882\u001b[0;31m             \u001b[0mhandle\u001b[0m \u001b[0;34m=\u001b[0m \u001b[0mopen\u001b[0m\u001b[0;34m(\u001b[0m\u001b[0mhandle\u001b[0m\u001b[0;34m,\u001b[0m \u001b[0mioargs\u001b[0m\u001b[0;34m.\u001b[0m\u001b[0mmode\u001b[0m\u001b[0;34m)\u001b[0m\u001b[0;34m\u001b[0m\u001b[0;34m\u001b[0m\u001b[0m\n\u001b[0m\u001b[1;32m    883\u001b[0m         \u001b[0mhandles\u001b[0m\u001b[0;34m.\u001b[0m\u001b[0mappend\u001b[0m\u001b[0;34m(\u001b[0m\u001b[0mhandle\u001b[0m\u001b[0;34m)\u001b[0m\u001b[0;34m\u001b[0m\u001b[0;34m\u001b[0m\u001b[0m\n\u001b[1;32m    884\u001b[0m \u001b[0;34m\u001b[0m\u001b[0m\n",
            "\u001b[0;31mFileNotFoundError\u001b[0m: [Errno 2] No such file or directory: 'estudiantes.xlsx'"
          ]
        }
      ]
    },
    {
      "cell_type": "markdown",
      "source": [
        "###**3.2. Quiz**\n",
        "Se relizo un Quizz que se puede revisar en plataforma"
      ],
      "metadata": {
        "id": "liHrI5CsBhfB"
      }
    }
  ]
}