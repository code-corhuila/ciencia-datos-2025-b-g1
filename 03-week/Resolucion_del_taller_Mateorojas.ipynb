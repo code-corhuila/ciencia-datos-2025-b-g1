{
  "nbformat": 4,
  "nbformat_minor": 0,
  "metadata": {
    "colab": {
      "provenance": []
    },
    "kernelspec": {
      "name": "python3",
      "display_name": "Python 3"
    },
    "language_info": {
      "name": "python"
    }
  },
  "cells": [
    {
      "cell_type": "markdown",
      "source": [
        "#Resolucion del taller Ciencia de Datos 22-08-25\n",
        "\n",
        "-realizado por: Jose Mateo Rojas Gutierrez"
      ],
      "metadata": {
        "id": "rhaR_rJh-JkE"
      }
    },
    {
      "cell_type": "code",
      "source": [],
      "metadata": {
        "id": "Y2kQChDIANud"
      },
      "execution_count": 1,
      "outputs": []
    },
    {
      "cell_type": "markdown",
      "source": [
        "1. Definición de ciencia de datos:\n",
        "\n",
        "[\"La ciencia de datos es la ciencia de explorar la naturalezadatos datanature, entendida como el dominio independiente formado por todos los datos digitales generados, recolectados y procesados en el ciberespacio. A diferencia de las ciencias naturales o sociales, la ciencia de datos se centra en los patrones, las leyes y el conocimiento oculto dentro de los datos mismos, utilizando teoría, métodos, técnicas y herramientas interdisciplinarias matemáticas, estadística, informática, ingeniería y conocimiento de dominio con el fin de entender, explicar, predecir y tomar decisiones fundamentadas. Esta disciplina no solo aplica métodos tradicionales al análisis de información, sino que además busca descubrir fenómenos nuevos que emergen exclusivamente de los datos, generando así un marco científico independiente.”](https://arxiv.org/pdf/1501.05039)\n",
        "\n",
        "2. Roles en la ciencia de datos:\n",
        "\n",
        "[Data Strategist/Estratega de Datos\n",
        "\n",
        "Es la persona que define la visión estratégica de los datos dentro de una organización. Su papel es identificar cómo los datos pueden generar valor, ya sea optimizando procesos, creando productos basados en información o facilitando la toma de decisiones. Es un rol más estratégico que técnico.\n",
        "\n",
        "Data Architect/Arquitecto de Datos\n",
        "\n",
        "Se encarga de diseñar la estructura de almacenamiento y flujo de datos. Define cómo se organizan las bases de datos, cómo se conectan entre sí y cómo garantizar que los datos estén disponibles, organizados y accesibles de manera eficiente.\n",
        "\n",
        "Data Engineer/Ingeniero de Datos\n",
        "\n",
        "Construye y mantiene los pipelines de datos procesos de extracción, transformación y carga. Su trabajo asegura que la información llegue limpia, completa y lista para ser analizada. Es un rol muy técnico, centrado en la infraestructura y el procesamiento masivo de datos.\n",
        "\n",
        "Data Analyst/Analista de Datos\n",
        "\n",
        "Se especializa en interpretar datos y convertirlos en información útil para la organización. Utiliza técnicas estadísticas básicas, herramientas de visualización y reportes para responder preguntas específicas y apoyar en decisiones estratégicas.\n",
        "\n",
        "Business Intelligence Analyst/Analista de Inteligencia de Negocios\n",
        "\n",
        "Se enfoca en generar reportes y dashboards interactivos para que diferentes áreas de la empresa tengan acceso a información clara. Su principal función es traducir datos en métricas e indicadores fáciles de interpretar para directivos y equipos operativos.\n",
        "\n",
        "Data Scientist/Científico de Datos\n",
        "\n",
        "Es el rol más completo y avanzado. Su trabajo consiste en aplicar estadística avanzada, aprendizaje automático y modelado predictivo para encontrar patrones complejos y generar predicciones. Además, debe comunicar los resultados de manera clara para que sean aplicables en la organización.\n",
        "\n",
        "ML Ops Engineer/Ingeniero de Operaciones de Machine Learning\n",
        "\n",
        "Se encarga de desplegar y mantener en producción los modelos creados por los científicos de datos. Asegura que los modelos funcionen de forma estable, los actualiza y monitoriza su rendimiento con el paso del tiempo.\n",
        "\n",
        "Data Product Manager/Gerente de Producto de Datos\n",
        "\n",
        "Es quien lidera proyectos y productos que dependen de datos. Define los requerimientos, coordina a los equipos técnicos y de negocio, y se asegura de que los productos basados en datos realmente generen valor para la organización.](https://www.datascience-pm.com/data-science-roles/?utm_source=chatgpt.com)\n",
        "\n",
        "3. Definicion de dataset\n",
        "\n",
        "[Un dataset es una colección organizada de datos, normalmente estructurados en forma de tabla, donde las filas representan observaciones o registros y las columnas representan variables o características. Los datasets pueden contener datos numéricos, categóricos, de texto o multimedia, y son la base para entrenar modelos de ciencia de datos e inteligencia artificial, ya que permiten analizar patrones y obtener conocimiento útil.](https://www.ibm.com/think/topics/dataset?utm_source=chatgpt.com)\n",
        "\n",
        "4. import pandas as pd\n",
        "\n",
        "import pandas as pd\n",
        "\n",
        " --- Cargar archivo CSV ---\n",
        "df_csv = pd.read_csv(\"archivo.csv\")\n",
        "\n",
        " --- Cargar archivo Excel (.xls y .xlsx) ---\n",
        "df_xls  = pd.read_excel(\"archivo.xls\")\n",
        "df_xlsx = pd.read_excel(\"archivo.xlsx\")\n",
        "\n",
        " --- Cargar archivo TXT separado por tabulaciones ---\n",
        "df_txt = pd.read_csv(\"archivo.txt\", sep=\"\\t\")\n",
        "\n",
        "# --- Cargar archivo con otro delimitador (ej: punto y coma ;) ---\n",
        "df_custom = pd.read_csv(\"archivo.csv\", sep=\";\")\n",
        "\n",
        "#print(nombre de archivo(df_txt, df_xls, df_xlsx).head())---> esto nos permite imprimir el archivo df que subimos"
      ],
      "metadata": {
        "id": "fsPhi9hl9UPo"
      }
    },
    {
      "cell_type": "markdown",
      "source": [
        "5.Generar un df con un archivo:"
      ],
      "metadata": {
        "id": "WzH6ZqEIEwdg"
      }
    },
    {
      "cell_type": "code",
      "source": [
        "from google.colab import drive\n",
        "drive.mount('/content/drive')"
      ],
      "metadata": {
        "colab": {
          "base_uri": "https://localhost:8080/"
        },
        "id": "P806LDUnGD6s",
        "outputId": "2bb439ae-6d6b-4be3-a373-211fb099fbfe"
      },
      "execution_count": 4,
      "outputs": [
        {
          "output_type": "stream",
          "name": "stdout",
          "text": [
            "Mounted at /content/drive\n"
          ]
        }
      ]
    },
    {
      "cell_type": "code",
      "source": [
        "# 2. Importar pandas\n",
        "import pandas as pd\n",
        "\n",
        "# 3. Definir la ruta del archivo (ajústala según el nombre de tu archivo)\n",
        "ruta = '/content/drive/MyDrive/Base de datos para el colab/encuesta_frutas.xlsx'\n",
        "\n",
        "# 4. Crear el DataFrame leyendo el archivo Excel\n",
        "df = pd.read_excel(ruta)\n",
        "\n",
        "# 5. Ver las primeras filas para confirmar\n",
        "print(df.head())"
      ],
      "metadata": {
        "colab": {
          "base_uri": "https://localhost:8080/"
        },
        "id": "8L2a4B3RHasJ",
        "outputId": "a779ed21-0c13-403f-ce29-b601fd8523a3"
      },
      "execution_count": 5,
      "outputs": [
        {
          "output_type": "stream",
          "name": "stdout",
          "text": [
            "  Genero    Fruta\n",
            "0  Mujer    Mango\n",
            "1  Mujer  Manzana\n",
            "2  Mujer   Banano\n",
            "3  Mujer    Mango\n",
            "4  Mujer    Mango\n"
          ]
        }
      ]
    },
    {
      "cell_type": "code",
      "source": [
        "import pandas as pd\n",
        "\n",
        "# Ruta correcta al archivo en Google Drive\n",
        "ruta = \"/content/drive/MyDrive/Base de datos para el colab/encuesta_frutas.xlsx\"\n",
        "\n",
        "# Leer el Excel en un DataFrame\n",
        "df = pd.read_excel(ruta)\n",
        "\n",
        "# Ver las primeras filas\n",
        "print(df.head())\n",
        "\n",
        "# Ver los nombres de las columnas\n",
        "print(\"\\nColumnas del DataFrame:\")\n",
        "print(df.columns)\n"
      ],
      "metadata": {
        "colab": {
          "base_uri": "https://localhost:8080/"
        },
        "id": "pbRqczToHkwb",
        "outputId": "0cdc200c-20c0-4405-99b5-5ae955f2e2f4"
      },
      "execution_count": 8,
      "outputs": [
        {
          "output_type": "stream",
          "name": "stdout",
          "text": [
            "  Genero    Fruta\n",
            "0  Mujer    Mango\n",
            "1  Mujer  Manzana\n",
            "2  Mujer   Banano\n",
            "3  Mujer    Mango\n",
            "4  Mujer    Mango\n",
            "\n",
            "Columnas del DataFrame:\n",
            "Index(['Genero', 'Fruta'], dtype='object')\n"
          ]
        }
      ]
    },
    {
      "cell_type": "code",
      "source": [
        "import matplotlib.pyplot as plt\n",
        "import pandas as pd\n",
        "\n",
        "# Tu DataFrame\n",
        "data = {\n",
        "    \"Genero\": [\"Mujer\", \"Mujer\", \"Mujer\", \"Mujer\", \"Mujer\"],\n",
        "    \"Fruta\": [\"Mango\", \"Manzana\", \"Banano\", \"Mango\", \"Mango\"]\n",
        "}\n",
        "df = pd.DataFrame(data)\n",
        "\n",
        "# Contar cuántas veces aparece cada fruta\n",
        "conteo = df[\"Fruta\"].value_counts()\n",
        "\n",
        "# Gráfico de barras\n",
        "plt.bar(conteo.index, conteo.values)\n",
        "plt.title(\"Frutas más escogidas\")\n",
        "plt.xlabel(\"Fruta\")\n",
        "plt.ylabel(\"Cantidad\")\n",
        "plt.show()"
      ],
      "metadata": {
        "colab": {
          "base_uri": "https://localhost:8080/",
          "height": 472
        },
        "id": "pGHiFbUTIbV4",
        "outputId": "9c51b04d-6ad7-4fe0-86fc-4a1cbb046497"
      },
      "execution_count": 9,
      "outputs": [
        {
          "output_type": "display_data",
          "data": {
            "text/plain": [
              "<Figure size 640x480 with 1 Axes>"
            ],
            "image/png": "[encoded data removed]"
          },
          "metadata": {}
        }
      ]
    }
  ]
}